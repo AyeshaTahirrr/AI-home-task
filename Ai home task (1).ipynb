{
 "cells": [
  {
   "cell_type": "code",
   "execution_count": 1,
   "id": "7ead143d-0e6f-4e50-b3c3-e7d8c2e1ee97",
   "metadata": {},
   "outputs": [
    {
     "name": "stdout",
     "output_type": "stream",
     "text": [
      "Prediction for (Fall, Online): Yes\n",
      "Confusion Matrix:\n",
      " [[1 0]\n",
      " [1 1]]\n",
      "Accuracy: 0.6666666666666666\n"
     ]
    }
   ],
   "source": [
    "from sklearn.model_selection import train_test_split \n",
    "\n",
    "from sklearn.neighbors import KNeighborsClassifier \n",
    "from sklearn.metrics import confusion_matrix, accuracy_score \n",
    "import numpy as np \n",
    "\n",
    "data = [ \n",
    "\n",
    "    [0, 0, 1],[1, 1, 0],[2, 2, 1],[3, 0, 1],[1, 2, 0],[0, 1, 0],[2, 0, 1],[3, 2, 1], [0, 1, 1], [1, 0, 0],   \n",
    "\n",
    "] \n",
    "\n",
    "X = [row[:2] for row in data]   \n",
    "y = [row[2] for row in data]     \n",
    "\n",
    "knn = KNeighborsClassifier(n_neighbors=3) \n",
    "X_train, X_test, y_train, y_test = train_test_split(X, y, test_size=0.3, random_state=0) \n",
    "\n",
    "knn.fit(X_train, y_train) \n",
    "test_condition = np.array([[2, 0]])   \n",
    "prediction = knn.predict(test_condition) \n",
    "y_pred = knn.predict(X_test) \n",
    "conf_matrix = confusion_matrix(y_test, y_pred) \n",
    "accuracy = accuracy_score(y_test, y_pred) \n",
    "print(\"Prediction for (Fall, Online):\", \"Yes\" if prediction[0] == 1 else \"No\") \n",
    "print(\"Confusion Matrix:\\n\", conf_matrix) \n",
    "print(\"Accuracy:\", accuracy) \n",
    "\n",
    " "
   ]
  },
  {
   "cell_type": "code",
   "execution_count": null,
   "id": "a94c8c82-7cb6-49c0-85dd-917fd6f2d96c",
   "metadata": {},
   "outputs": [],
   "source": []
  }
 ],
 "metadata": {
  "kernelspec": {
   "display_name": "Python 3 (ipykernel)",
   "language": "python",
   "name": "python3"
  },
  "language_info": {
   "codemirror_mode": {
    "name": "ipython",
    "version": 3
   },
   "file_extension": ".py",
   "mimetype": "text/x-python",
   "name": "python",
   "nbconvert_exporter": "python",
   "pygments_lexer": "ipython3",
   "version": "3.12.7"
  }
 },
 "nbformat": 4,
 "nbformat_minor": 5
}
